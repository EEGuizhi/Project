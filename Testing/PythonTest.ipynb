{
 "cells": [
  {
   "attachments": {},
   "cell_type": "markdown",
   "metadata": {},
   "source": [
    "# 實驗與測試區"
   ]
  },
  {
   "attachments": {},
   "cell_type": "markdown",
   "metadata": {},
   "source": [
    "### Import可能會用到的 套件/模組  (需執行)"
   ]
  },
  {
   "cell_type": "code",
   "execution_count": 1,
   "metadata": {},
   "outputs": [],
   "source": [
    "import numpy as np\n",
    "import torch\n",
    "import torch.nn as nn\n",
    "\n",
    "from munch import Munch"
   ]
  },
  {
   "attachments": {},
   "cell_type": "markdown",
   "metadata": {},
   "source": [
    "### Python index test"
   ]
  },
  {
   "cell_type": "code",
   "execution_count": null,
   "metadata": {},
   "outputs": [],
   "source": [
    "### python index test\n",
    "heatmap = np.array([[0.2, 0.5, 0.8], [0.9, 0.3, 0.6], [0.1, 0.7, 0.4]])\n",
    "threshold = 0.5\n",
    "print(\"heatmap:\", heatmap)  # output: heatmap: [[0.2 0.5 0.8]\n",
    "                            #                   [0.9 0.3 0.6]\n",
    "                            #                   [0.1 0.7 0.4]]\n",
    "heatmap[heatmap < threshold] = 0\n",
    "print(\"heatmap:\", heatmap)  # output: heatmap: [[0.2 0.5 0.8]\n",
    "                            #                   [0.9 0.  0.6]\n",
    "                            #                   [0.  0.7 0. ]]"
   ]
  },
  {
   "attachments": {},
   "cell_type": "markdown",
   "metadata": {},
   "source": [
    "### BCELoss test"
   ]
  },
  {
   "cell_type": "code",
   "execution_count": null,
   "metadata": {},
   "outputs": [],
   "source": [
    "### BCELoss test\n",
    "m = nn.Sigmoid()\n",
    "# bce_loss = nn.BCELoss(reduction='sum')  # 沒有平均\n",
    "bce_loss = nn.BCELoss()  # 有平均\n",
    "output = torch.tensor([-1, -2, -3, 1, 2, 3], dtype=torch.float32)\n",
    "output = m(output)  # 先處理一次 (將數值轉到0~1之間)\n",
    "target = torch.tensor([0, 1, 0, 0, 0, 1], dtype=torch.float32)\n",
    "loss = bce_loss(output, target)\n",
    "print(loss)"
   ]
  },
  {
   "attachments": {},
   "cell_type": "markdown",
   "metadata": {},
   "source": [
    "### 模型並聯 (提供by ChatGPT)"
   ]
  },
  {
   "cell_type": "code",
   "execution_count": null,
   "metadata": {},
   "outputs": [],
   "source": [
    "### 模型並聯\n",
    "class ParallelConv(nn.Module):\n",
    "    def __init__(self, in_channels, out_channels, num_convs):\n",
    "        super(ParallelConv, self).__init__()\n",
    "        self.num_convs = num_convs\n",
    "        self.convs = nn.ModuleList([nn.Conv2d(in_channels, out_channels, kernel_size=3, padding=1) for i in range(num_convs)])\n",
    "\n",
    "    def forward(self, x):\n",
    "        outputs = []\n",
    "        for i in range(self.num_convs):\n",
    "            outputs.append(self.convs[i](x))\n",
    "        return torch.cat(outputs, dim=1)"
   ]
  },
  {
   "attachments": {},
   "cell_type": "markdown",
   "metadata": {},
   "source": [
    "### Dictionary / Munch test"
   ]
  },
  {
   "cell_type": "code",
   "execution_count": null,
   "metadata": {},
   "outputs": [],
   "source": [
    "### dictionary test\n",
    "cfg = []\n",
    "\n",
    "# test 1\n",
    "cfg.append(\n",
    "    dict(num_modules=1, num_branches=1, block='BOTTLENECK', num_blocks=(4), num_channels=(64, ))\n",
    ")\n",
    "\n",
    "# test 2\n",
    "cfg.append(\n",
    "    dict(\n",
    "        MODEL = dict(\n",
    "            NAME = \"cls_hrnet\",\n",
    "            IMAGE_SIZE = (224, 224)\n",
    "        )\n",
    "    )\n",
    ")\n",
    "\n",
    "# test 3\n",
    "cfg.append(\n",
    "    Munch()\n",
    ")\n",
    "cfg[-1].MODEL = Munch()\n",
    "cfg[-1].MODEL.NAME = \"cls_hrnet\"\n",
    "\n",
    "# test 4\n",
    "cfg.append(\n",
    "    {\n",
    "        \"MODEL\" : {\n",
    "            \"NAME\" : \"cls_hrnet\",\n",
    "            \"IMAGE_SIZE\" : (224, 224)\n",
    "        }\n",
    "    }\n",
    ")\n",
    "\n",
    "\n",
    "# Log Output\n",
    "for i in range(len(cfg)):\n",
    "    print(\"\\n===\")\n",
    "    print(\">> cfg[{}] : {}\".format(i, cfg[i]))\n",
    "    try:\n",
    "        print(\">> cfg[{}]['MODEL'] : {}\".format(i, cfg[i]['MODEL']))\n",
    "    except:\n",
    "        print(\">> cfg[{}]['MODEL'] : error\".format(i))\n",
    "    try:\n",
    "        print(\">> cfg[{}].MODEL : {}\".format(i, cfg[i].MODEL))\n",
    "    except:\n",
    "        print(\">> cfg[{}].MODEL : error\".format(i))\n",
    "    try:\n",
    "        print(\">> cfg[{}].MODEL.NAME : {}\".format(i, cfg[i].MODEL.NAME))\n",
    "    except:\n",
    "        print(\">> cfg[{}].MODEL.NAME : error\".format(i))"
   ]
  },
  {
   "attachments": {},
   "cell_type": "markdown",
   "metadata": {},
   "source": [
    "### ONNX test (簡單模型視覺化)"
   ]
  },
  {
   "cell_type": "code",
   "execution_count": 6,
   "metadata": {},
   "outputs": [],
   "source": [
    "### onnx test\n",
    "BN_MOMENTUM = 0.1\n",
    "class Bottleneck(nn.Module):\n",
    "    expansion = 4\n",
    "    def __init__(self, inplanes, planes, stride=1, downsample=None):\n",
    "        super(Bottleneck, self).__init__()\n",
    "        self.conv1 = nn.Conv2d(inplanes, planes, kernel_size=1, bias=False)\n",
    "        self.bn1 = nn.BatchNorm2d(planes, momentum=BN_MOMENTUM)\n",
    "        self.conv2 = nn.Conv2d(planes, planes, kernel_size=3, stride=stride, padding=1, bias=False)\n",
    "        self.bn2 = nn.BatchNorm2d(planes, momentum=BN_MOMENTUM)\n",
    "        self.conv3 = nn.Conv2d(planes, planes*self.expansion, kernel_size=1, bias=False)\n",
    "        self.bn3 = nn.BatchNorm2d(planes*self.expansion, momentum=BN_MOMENTUM)\n",
    "        self.relu = nn.ReLU(inplace=True)\n",
    "        self.downsample = downsample\n",
    "        self.stride = stride\n",
    "\n",
    "    def forward(self, x):\n",
    "        residual = x\n",
    "        out = self.conv1(x)  # layer 1\n",
    "        out = self.bn1(out)\n",
    "        out = self.relu(out)\n",
    "        out = self.conv2(out)  # layer 2\n",
    "        out = self.bn2(out)\n",
    "        out = self.relu(out)\n",
    "        out = self.conv3(out)  # layer 3\n",
    "        out = self.bn3(out)\n",
    "        if self.downsample is not None:\n",
    "            residual = self.downsample(x)\n",
    "\n",
    "        out += residual\n",
    "        out = self.relu(out)\n",
    "        return out\n",
    "\n",
    "def Convert_ONNX(model):\n",
    "    # set the model to inference mode\n",
    "    model.eval() \n",
    "\n",
    "    # Let's create a dummy input tensor\n",
    "    dummy_input = torch.randn(1, 4, 5, 5)  \n",
    "\n",
    "    # Export the model\n",
    "    torch.onnx.export(model,  # model being run \n",
    "         dummy_input,  # model input (or a tuple for multiple inputs)\n",
    "         \"Bottleneck.onnx\",  # where to save the model\n",
    "         export_params=True,  # store the trained parameter weights inside the model file\n",
    "         opset_version=10,  # the ONNX version to export the model to\n",
    "         do_constant_folding=True,  # whether to execute constant folding for optimization \n",
    "         input_names = ['modelInput'],  # the model's input names\n",
    "         output_names = ['modelOutput'],  # the model's output names\n",
    "         dynamic_axes={'modelInput' : {0 : 'batch_size'}, 'modelOutput' : {0 : 'batch_size'}}  # variable length axes\n",
    "    )\n",
    "    print(\"\\n>> Model has been converted to ONNX\")\n",
    "\n",
    "if __name__ == \"__main__\":\n",
    "    model = Bottleneck(4, 1)\n",
    "    Convert_ONNX(model)\n",
    "    \n",
    "    # from torch.utils.tensorboard import SummaryWriter\n",
    "    # tb = SummaryWriter()\n",
    "    # dummy_input = torch.randn(1, 4, 5, 5)\n",
    "    # tb.add_graph(model, dummy_input)\n",
    "    # tb.close()"
   ]
  },
  {
   "attachments": {},
   "cell_type": "markdown",
   "metadata": {},
   "source": [
    "### torch.zeros_like()"
   ]
  },
  {
   "cell_type": "code",
   "execution_count": null,
   "metadata": {},
   "outputs": [],
   "source": [
    "\n",
    "heatmap = torch.randn(2, 5, 5)  # 隨便假設一個tensor\n",
    "hint_heatmap = torch.zeros_like(heatmap)  # torch.zeros_like()裡面不只可以放\"大小\" 也可以放一個tesor然後自動取同樣大小\n",
    "print(\">> heatmap:\\n{}\".format(heatmap))\n",
    "print(\">> hint_heatmap:\\n{}\".format(hint_heatmap))"
   ]
  },
  {
   "attachments": {},
   "cell_type": "markdown",
   "metadata": {},
   "source": [
    "### def in def"
   ]
  },
  {
   "cell_type": "code",
   "execution_count": null,
   "metadata": {},
   "outputs": [],
   "source": [
    "### def in def\n",
    "def f1():\n",
    "    print(\">> i'm f1\")\n",
    "    \n",
    "    def f2():\n",
    "        print(\">> i'm f2\")\n",
    "    \n",
    "    return f2  # return a func\n",
    "    # return f2()  # error\n",
    "\n",
    "if __name__ == \"__main__\":\n",
    "    func = f1()\n",
    "    print(\"===\")\n",
    "    func()"
   ]
  }
 ],
 "metadata": {
  "kernelspec": {
   "display_name": "base",
   "language": "python",
   "name": "python3"
  },
  "language_info": {
   "codemirror_mode": {
    "name": "ipython",
    "version": 3
   },
   "file_extension": ".py",
   "mimetype": "text/x-python",
   "name": "python",
   "nbconvert_exporter": "python",
   "pygments_lexer": "ipython3",
   "version": "3.9.13"
  },
  "orig_nbformat": 4
 },
 "nbformat": 4,
 "nbformat_minor": 2
}
